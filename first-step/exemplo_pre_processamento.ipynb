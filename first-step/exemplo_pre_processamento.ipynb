{
  "nbformat": 4,
  "nbformat_minor": 0,
  "metadata": {
    "colab": {
      "name": "exemplo_pre_processamento.ipynb",
      "provenance": [],
      "collapsed_sections": []
    },
    "kernelspec": {
      "name": "python3",
      "display_name": "Python 3"
    }
  },
  "cells": [
    {
      "cell_type": "code",
      "metadata": {
        "colab": {
          "base_uri": "https://localhost:8080/"
        },
        "id": "Ua4UFtUV2WPY",
        "outputId": "0ecc50e6-ef8c-4ac3-b0ca-5f2cdb66cdab"
      },
      "source": [
        "from google.colab import drive\r\n",
        "\r\n",
        "drive.mount('/content/drive');"
      ],
      "execution_count": 1,
      "outputs": [
        {
          "output_type": "stream",
          "text": [
            "Mounted at /content/drive\n"
          ],
          "name": "stdout"
        }
      ]
    },
    {
      "cell_type": "code",
      "metadata": {
        "id": "s0eVSKYr2yIJ"
      },
      "source": [
        "import nltk\r\n",
        "\r\n",
        "from nltk.corpus import stopwords  \r\n",
        "from nltk.tokenize import word_tokenize \r\n",
        "from nltk.stem import PorterStemmer\r\n",
        "from nltk.stem import LancasterStemmer\r\n",
        "from nltk.stem import SnowballStemmer\r\n",
        "from nltk.probability import FreqDist\r\n",
        "\r\n",
        "from string import punctuation"
      ],
      "execution_count": 31,
      "outputs": []
    },
    {
      "cell_type": "code",
      "metadata": {
        "id": "IMKvYF5J4FdY"
      },
      "source": [
        "# nltk.download('popular');"
      ],
      "execution_count": null,
      "outputs": []
    },
    {
      "cell_type": "markdown",
      "metadata": {
        "id": "rlpGIG5cKEJV"
      },
      "source": [
        "#### **Remover StopWords**"
      ]
    },
    {
      "cell_type": "code",
      "metadata": {
        "id": "0IZ1eHYL5VAH"
      },
      "source": [
        "def remove_stop_words(text):\r\n",
        "  stop_words = set(stopwords.words('english') + list(punctuation));\r\n",
        "  tokens = word_tokenize(text);\r\n",
        "  return [word for word in tokens if word.lower().strip() not in stop_words];"
      ],
      "execution_count": 40,
      "outputs": []
    },
    {
      "cell_type": "markdown",
      "metadata": {
        "id": "4K6yfoQTKoED"
      },
      "source": [
        "#### **Remover palavras de dois dígitos e numeração**"
      ]
    },
    {
      "cell_type": "code",
      "metadata": {
        "id": "HAj8LQdl5csX"
      },
      "source": [
        "def remove_two_lenght_and_digits(text):\r\n",
        "  return [word for word in text if len(word) > 2 and not word.isdigit()];"
      ],
      "execution_count": 41,
      "outputs": []
    },
    {
      "cell_type": "markdown",
      "metadata": {
        "id": "2MdkgE5tLSag"
      },
      "source": [
        "#### **Processo de stemmezar as palavras**\r\n",
        "*Retorna a sua origem, ou seja, palavras podem possuir mais de uma conjugação, então utilizamos esse processo para retornar a sua versão radical*"
      ]
    },
    {
      "cell_type": "code",
      "metadata": {
        "id": "d1NA3jd7LPut"
      },
      "source": [
        "def stem_porter(tokens):\r\n",
        "  porter = PorterStemmer();\r\n",
        "  return [porter.stem(word) for word in tokens];\r\n",
        "\r\n",
        "def stem_snowball(tokens):\r\n",
        "  snowball = SnowballStemmer(\"english\");\r\n",
        "  return [snowball.stem(word) for word in tokens];\r\n",
        "\r\n",
        "def stem_lancaster(tokens): \r\n",
        "  lancaster = LancasterStemmer();\r\n",
        "  return [lancaster.stem(word) for word in tokens];"
      ],
      "execution_count": 42,
      "outputs": []
    },
    {
      "cell_type": "markdown",
      "metadata": {
        "id": "l-QQvFXzdmJ1"
      },
      "source": [
        "#### **Obtém a frequência das palavras**"
      ]
    },
    {
      "cell_type": "code",
      "metadata": {
        "id": "HsJPgbzedla0"
      },
      "source": [
        "def search_frequency(tokens):\r\n",
        "  return [FreqDist(tokens), FreqDist(tokens).keys(), FreqDist(tokens).most_common()];"
      ],
      "execution_count": 43,
      "outputs": []
    },
    {
      "cell_type": "markdown",
      "metadata": {
        "id": "Hu-m_CXLfnB-"
      },
      "source": [
        "#### ***Função responsável por ler as constituções***\r\n",
        "*Função lê as constituições e separa em um dicionário os capitulos, os artigos e os preambulos*"
      ]
    },
    {
      "cell_type": "code",
      "metadata": {
        "id": "EBDGKF3yaC3J"
      },
      "source": [
        "PATH = '/content/drive/MyDrive/Colab Notebooks/';\r\n",
        "FILE = 'China_1982.txt';\r\n",
        "\r\n",
        "with open(PATH+FILE, 'r') as file:\r\n",
        "  constitute = file.read();"
      ],
      "execution_count": 66,
      "outputs": []
    },
    {
      "cell_type": "code",
      "metadata": {
        "colab": {
          "base_uri": "https://localhost:8080/",
          "height": 317
        },
        "id": "KbrG3FfhebXp",
        "outputId": "e60bc9fa-14c1-4679-f273-be6e3d10f751"
      },
      "source": [
        "without_stop_word = remove_stop_words(constitute);\r\n",
        "without_stop_word = remove_two_lenght_and_digits(without_stop_word);\r\n",
        "stems = stem_snowball(without_stop_word);\r\n",
        "[freq, keys, most_common] = search_frequency(stems);\r\n",
        "\r\n",
        "freq.plot(15, cumulative=False);"
      ],
      "execution_count": 72,
      "outputs": [
        {
          "output_type": "display_data",
          "data": {
            "image/png": "[encoded data removed]",
            "text/plain": [
              "<Figure size 432x288 with 1 Axes>"
            ]
          },
          "metadata": {
            "tags": [],
            "needs_background": "light"
          }
        }
      ]
    },
    {
      "cell_type": "code",
      "metadata": {
        "id": "6oNz4IPyq2ZH"
      },
      "source": [
        ""
      ],
      "execution_count": null,
      "outputs": []
    }
  ]
}